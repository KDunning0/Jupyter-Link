{
 "cells": [
  {
   "cell_type": "markdown",
   "id": "b1948a2c-e8b8-4195-9174-826759d7f1aa",
   "metadata": {},
   "source": [
    "Euler Problem Number 3"
   ]
  },
  {
   "cell_type": "markdown",
   "id": "918003c7-fb1a-446f-b0a1-f6014e48c2fb",
   "metadata": {},
   "source": [
    "Import sympy. Start at 2 because beginning at 1 errors out at the second portion of the \"while\" statement.  Stop at the final number."
   ]
  },
  {
   "cell_type": "code",
   "execution_count": 17,
   "id": "470cc5c1-156e-4cbf-a02e-9c3bbb73f428",
   "metadata": {},
   "outputs": [],
   "source": [
    "from sympy import *\n",
    "start = 2\n",
    "stop = 600851475143"
   ]
  },
  {
   "cell_type": "markdown",
   "id": "d40d9cb8-8fb1-451e-8a43-2b24b8659e2b",
   "metadata": {},
   "source": [
    "Looking for a factor, so stop when start times itself is greater than stop.  Check that the current number of start is actually a factor by making sure the remainder is zero.  Rewrite stop for the new factor, which will eventually \"meet in the middle.\"  Advance the counter."
   ]
  },
  {
   "cell_type": "code",
   "execution_count": 20,
   "id": "95bbd014-885d-4429-9817-c3ea38020382",
   "metadata": {},
   "outputs": [],
   "source": [
    "while start * start < stop:\n",
    "     while stop%start == 0:\n",
    "         stop = stop/start\n",
    "     start = start + 1"
   ]
  },
  {
   "cell_type": "markdown",
   "id": "7e246ffd-bf46-4209-9235-9888b2de81c8",
   "metadata": {},
   "source": [
    "Turn stop into an integer.  Check to make sure stop is a prime number.  Print stop."
   ]
  },
  {
   "cell_type": "code",
   "execution_count": 24,
   "id": "ce21e3d9-f6af-4eb5-a464-25f023d459a1",
   "metadata": {},
   "outputs": [
    {
     "name": "stdout",
     "output_type": "stream",
     "text": [
      "True\n",
      "6857\n"
     ]
    }
   ],
   "source": [
    "stop = int(stop)\n",
    "print(isprime(stop))\n",
    "print(stop)"
   ]
  }
 ],
 "metadata": {
  "kernelspec": {
   "display_name": "Python [conda env:base] *",
   "language": "python",
   "name": "conda-base-py"
  },
  "language_info": {
   "codemirror_mode": {
    "name": "ipython",
    "version": 3
   },
   "file_extension": ".py",
   "mimetype": "text/x-python",
   "name": "python",
   "nbconvert_exporter": "python",
   "pygments_lexer": "ipython3",
   "version": "3.12.7"
  }
 },
 "nbformat": 4,
 "nbformat_minor": 5
}
