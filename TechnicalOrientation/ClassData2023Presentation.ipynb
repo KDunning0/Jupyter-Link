{
 "cells": [
  {
   "cell_type": "markdown",
   "metadata": {},
   "source": [
    "# Student Survey Data 2023 Presentation"
   ]
  },
  {
   "cell_type": "markdown",
   "metadata": {},
   "source": [
    "By: Katie Dunning  \n",
    "For: Technical Orientation"
   ]
  },
  {
   "cell_type": "markdown",
   "metadata": {},
   "source": [
    "### Histogram #1, Student Operating Systems"
   ]
  },
  {
   "cell_type": "markdown",
   "metadata": {},
   "source": [
    "![Student Operating System](https://github.com/KDunning0/Jupyter-Link/blob/main/TechnicalOrientation/OS.png?raw=true)"
   ]
  },
  {
   "cell_type": "markdown",
   "metadata": {},
   "source": [
    "The majority of people in the 2023 class used Mac OS, but a decent number of people also used Windows.\n",
    "There is one outlier of someone using MAC and Linux operating systems."
   ]
  },
  {
   "cell_type": "markdown",
   "metadata": {},
   "source": [
    "### Histogram #2, CPU Cycle Rates in GHz"
   ]
  },
  {
   "cell_type": "markdown",
   "metadata": {},
   "source": [
    "![CPU Cycle Rates](https://github.com/KDunning0/Jupyter-Link/blob/main/TechnicalOrientation/StudentCPUCycleRate.png?raw=true)"
   ]
  },
  {
   "cell_type": "markdown",
   "metadata": {},
   "source": [
    "Most students had a GPU Cycle rate that fell between 1 and 4.  One person had a CPU cycle rate over 4.5 GHz.\n",
    "An outlier was removed from the sample set, which was 2133 GHz.  I believe this value was likely made in error."
   ]
  },
  {
   "cell_type": "markdown",
   "metadata": {},
   "source": [
    "### Histogram #3, CPU Number of Cores"
   ]
  },
  {
   "cell_type": "markdown",
   "metadata": {},
   "source": [
    "![CPU Number of Cores](https://github.com/KDunning0/Jupyter-Link/blob/main/TechnicalOrientation/StudentCPUCores.png?raw=true)"
   ]
  },
  {
   "cell_type": "markdown",
   "metadata": {},
   "source": [
    "A majority of students had 2, 4, or 8 cores for their CPU.  Several students have 10 cores and a couple of students had has high as 12 cores."
   ]
  },
  {
   "cell_type": "markdown",
   "metadata": {},
   "source": [
    "### Histogram #4, Student RAM in GB"
   ]
  },
  {
   "cell_type": "markdown",
   "metadata": {},
   "source": [
    "![CPU Number of Cores](https://github.com/KDunning0/Jupyter-Link/blob/main/TechnicalOrientation/StudentRAM.png?raw=true)"
   ]
  },
  {
   "cell_type": "markdown",
   "metadata": {},
   "source": [
    "Only one student had 4 GB of RAM, while over thirty students have 8 GB of RAM and over twenty students have 16 GB of RAM.A few students have 32 GB of RAM and a couple had 64 GB of RAM."
   ]
  },
  {
   "cell_type": "markdown",
   "metadata": {},
   "source": [
    "### Histogram #5, Student Hard Drive in GB"
   ]
  },
  {
   "cell_type": "markdown",
   "metadata": {},
   "source": [
    "![Hard Drive](https://github.com/KDunning0/Jupyter-Link/blob/main/TechnicalOrientation/Studentharddrive.png?raw=true)"
   ]
  },
  {
   "cell_type": "markdown",
   "metadata": {},
   "source": [
    "The hard drive size of most of the class was under 600 GB.  Only approximately nine students had hard drives over this size."
   ]
  },
  {
   "cell_type": "markdown",
   "metadata": {},
   "source": [
    "### Histogram #6, GPU CUDA Number of Cores"
   ]
  },
  {
   "cell_type": "markdown",
   "metadata": {},
   "source": [
    "![CUDA Cores](https://github.com/KDunning0/Jupyter-Link/blob/main/TechnicalOrientation/StudentCUDAcores.png?raw=true)"
   ]
  },
  {
   "cell_type": "markdown",
   "metadata": {},
   "source": [
    "Most students did not have any CUDA cores in their computers.  Of those that did have CUDA cores, most of them had less than 500 of them.  A few students had 1,000 cores or higher."
   ]
  },
  {
   "cell_type": "markdown",
   "metadata": {},
   "source": [
    "### GPU Short Description\n",
    "\n",
    "The GPU Short descriptions weren't suitable for use in a histogram.  Intel GPUs were by far the most common, but NVIDIA and Apple showed up occasionally as well.  Several students had integrated graphics, which is what \"none\" and \"0\" are being counted as."
   ]
  }
 ],
 "metadata": {
  "language_info": {
   "name": "python"
  }
 },
 "nbformat": 4,
 "nbformat_minor": 2
}
