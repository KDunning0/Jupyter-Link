{
 "cells": [
  {
   "cell_type": "markdown",
   "metadata": {},
   "source": [
    "# Central Limit Thorem"
   ]
  },
  {
   "cell_type": "markdown",
   "metadata": {},
   "source": [
    "#### When sampling the distribution of sample means, as the sample size (n) increases, the data will take on a more normal distribution.  This will be the case even if the distribution is a shape other than normal, such as binomial."
   ]
  },
  {
   "cell_type": "markdown",
   "metadata": {},
   "source": [
    "Reference:\n",
    "Central limit theorem: Definition and examples. Statistics How To. (n.d.). https://www.statisticshowto.com/probability-and-statistics/normal-distributions/central-limit-theorem-definition-examples/ "
   ]
  },
  {
   "cell_type": "markdown",
   "metadata": {},
   "source": [
    "### Histogram 1. N=20 Binomial and Normal Distribution"
   ]
  },
  {
   "cell_type": "markdown",
   "metadata": {},
   "source": [
    "![N20 Image](https://raw.githubusercontent.com/KDunning0/Jupyter-Link/refs/heads/main/TechnicalOrientation/N20.png)\n"
   ]
  },
  {
   "cell_type": "markdown",
   "metadata": {},
   "source": [
    "As shown, the data still diverges in shape. This is in part because N is under 30, where changes are less pronounced.\n",
    "\n",
    "Reference: Central limit theorem: Definition and examples. Statistics How To. (n.d.). https://www.statisticshowto.com/probability-and-statistics/normal-distributions/central-limit-theorem-definition-examples/ "
   ]
  },
  {
   "cell_type": "markdown",
   "metadata": {},
   "source": [
    "### Histogram 2. N=100 Binomial and Normal Distribution"
   ]
  },
  {
   "cell_type": "markdown",
   "metadata": {},
   "source": [
    "![N20 Image](https://github.com/KDunning0/Jupyter-Link/blob/main/TechnicalOrientation/N100.png?raw=true)"
   ]
  },
  {
   "cell_type": "markdown",
   "metadata": {},
   "source": [
    "The divergence with N=100 is much less, with the curves looking much more similiar."
   ]
  },
  {
   "cell_type": "markdown",
   "metadata": {},
   "source": [
    "### Histogram 3. N=1000 Binomial and Normal Distribution"
   ]
  },
  {
   "cell_type": "markdown",
   "metadata": {},
   "source": [
    "![N20 Image](https://raw.githubusercontent.com/KDunning0/Jupyter-Link/refs/heads/main/TechnicalOrientation/N1000.png)"
   ]
  },
  {
   "cell_type": "markdown",
   "metadata": {},
   "source": [
    "In this final example, you can see that the curves are very similar at the highest sample value of n."
   ]
  }
 ],
 "metadata": {
  "language_info": {
   "name": "python"
  }
 },
 "nbformat": 4,
 "nbformat_minor": 2
}
